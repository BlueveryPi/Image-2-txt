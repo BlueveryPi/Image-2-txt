{
  "nbformat": 4,
  "nbformat_minor": 0,
  "metadata": {
    "colab": {
      "name": "Imagegotxttttt.ipynb",
      "provenance": [],
      "collapsed_sections": [],
      "authorship_tag": "ABX9TyNJqDCakEFtD1A+DXGcx8wq",
      "include_colab_link": true
    },
    "kernelspec": {
      "display_name": "Python 3",
      "name": "python3"
    }
  },
  "cells": [
    {
      "cell_type": "markdown",
      "metadata": {
        "id": "view-in-github",
        "colab_type": "text"
      },
      "source": [
        "<a href=\"https://colab.research.google.com/github/BlueveryPi/Image-2-txt/blob/main/Imagegotxttttt.ipynb\" target=\"_parent\"><img src=\"https://colab.research.google.com/assets/colab-badge.svg\" alt=\"Open In Colab\"/></a>"
      ]
    },
    {
      "cell_type": "code",
      "metadata": {
        "colab": {
          "base_uri": "https://localhost:8080/",
          "height": 35
        },
        "id": "PJ5qXE2P2mOj",
        "outputId": "8beec19c-4fa1-4d47-ffa5-a241456e260e"
      },
      "source": [
        "from PIL import *\r\n",
        "import numpy as np\r\n",
        "from urllib.request import urlopen\r\n",
        "from google.colab import files\r\n",
        "\r\n",
        "batch=2\r\n",
        "#lst=[\" \", \".\", \":\", \"-\", \"=\", \"+\", \"*\", \"#\", \"%\", \"@\"]\r\n",
        "lst=[\"□\",\"▒\" ,\"▧\" ,\"▥\" ,\"▦\" ,\"▩\" ,\"▣\" ,\"■\"]\r\n",
        "\r\n",
        "url=str(input(\"URL: \"))\r\n",
        "image=Image.open(urlopen(url))\r\n",
        "image=image.resize([image.size[0]//batch*batch, image.size[1]//batch*batch])\r\n",
        "image=image.convert(\"L\")\r\n",
        "img_array=np.array(image)\r\n",
        "txt=\"\"\r\n",
        "\r\n",
        "for y in range(int(image.size[1]/batch)):\r\n",
        "    y*=batch\r\n",
        "    for x in range(int(image.size[0]/batch)):\r\n",
        "        x*=batch\r\n",
        "        ave=0\r\n",
        "        a=0\r\n",
        "        b=0\r\n",
        "        for i in range(batch*batch):\r\n",
        "            a=(i%batch)+x-1\r\n",
        "            b=(i//batch)+y\r\n",
        "            ave+=img_array[b][a]\r\n",
        "        txt+=str(lst[int((((ave/(batch*batch))/255)*(len(lst)-1)))])\r\n",
        "    txt+=\"\\n\"\r\n",
        "f=open('data.txt', 'w+')\r\n",
        "f.write(txt)\r\n",
        "files.download('data.txt')"
      ],
      "execution_count": 24,
      "outputs": [
        {
          "output_type": "stream",
          "text": [
            "URL: https://icatcare.org/app/uploads/2018/07/Thinking-of-getting-a-cat.png\n"
          ],
          "name": "stdout"
        },
        {
          "output_type": "display_data",
          "data": {
            "application/javascript": [
              "\n",
              "    async function download(id, filename, size) {\n",
              "      if (!google.colab.kernel.accessAllowed) {\n",
              "        return;\n",
              "      }\n",
              "      const div = document.createElement('div');\n",
              "      const label = document.createElement('label');\n",
              "      label.textContent = `Downloading \"${filename}\": `;\n",
              "      div.appendChild(label);\n",
              "      const progress = document.createElement('progress');\n",
              "      progress.max = size;\n",
              "      div.appendChild(progress);\n",
              "      document.body.appendChild(div);\n",
              "\n",
              "      const buffers = [];\n",
              "      let downloaded = 0;\n",
              "\n",
              "      const channel = await google.colab.kernel.comms.open(id);\n",
              "      // Send a message to notify the kernel that we're ready.\n",
              "      channel.send({})\n",
              "\n",
              "      for await (const message of channel.messages) {\n",
              "        // Send a message to notify the kernel that we're ready.\n",
              "        channel.send({})\n",
              "        if (message.buffers) {\n",
              "          for (const buffer of message.buffers) {\n",
              "            buffers.push(buffer);\n",
              "            downloaded += buffer.byteLength;\n",
              "            progress.value = downloaded;\n",
              "          }\n",
              "        }\n",
              "      }\n",
              "      const blob = new Blob(buffers, {type: 'application/binary'});\n",
              "      const a = document.createElement('a');\n",
              "      a.href = window.URL.createObjectURL(blob);\n",
              "      a.download = filename;\n",
              "      div.appendChild(a);\n",
              "      a.click();\n",
              "      div.remove();\n",
              "    }\n",
              "  "
            ],
            "text/plain": [
              "<IPython.core.display.Javascript object>"
            ]
          },
          "metadata": {
            "tags": []
          }
        },
        {
          "output_type": "display_data",
          "data": {
            "application/javascript": [
              "download(\"download_cea49f39-0254-4b41-a8a4-87bb7711df57\", \"data.txt\", 540300)"
            ],
            "text/plain": [
              "<IPython.core.display.Javascript object>"
            ]
          },
          "metadata": {
            "tags": []
          }
        }
      ]
    },
    {
      "cell_type": "code",
      "metadata": {
        "id": "oNDJmT9Qi_tC"
      },
      "source": [
        "from PIL import *\r\n",
        "import numpy as np\r\n",
        "from urllib.request import urlopen\r\n",
        "from google.colab import files\r\n",
        "from google.colab.patches import cv2_imshow\r\n",
        "\r\n",
        "#lst=[\"    \", \"......\", \"::::::\", \"---\", \"==\", \"++\", \"***\", \"##\", \"%\", \"@\"]\r\n",
        "lst=[\"□\",\"▒\" ,\"▧\" ,\"▥\" ,\"▦\" ,\"▩\" ,\"▣\" ,\"■\"]\r\n",
        "\r\n",
        "lst.reverse()\r\n",
        "url=str(input(\"URL: \"))\r\n",
        "image=Image.open(urlopen(url))\r\n",
        "image=image.resize([image.size[0]//batch*batch, image.size[1]//batch*batch])\r\n",
        "image=image.convert(\"L\")\r\n",
        "img_array=np.array(image)\r\n",
        "txt=\"\"\r\n",
        "\r\n",
        "cv2_imshow(img_array)\r\n",
        "\r\n",
        "for y in range(image.size[1]):\r\n",
        "    for x in range(image.size[0]):\r\n",
        "        txt+=lst[int((img_array[y][x]/255)*len(lst))-1]\r\n",
        "    txt+=\"\\n\"\r\n",
        "\r\n",
        "f=open('data.txt', 'w+')\r\n",
        "f.write(txt)\r\n",
        "files.download('data.txt')"
      ],
      "execution_count": null,
      "outputs": []
    }
  ]
}